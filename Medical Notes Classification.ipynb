{
  "cells": [
    {
      "cell_type": "markdown",
      "metadata": {
        "id": "AMnp5FsnF0g-"
      },
      "source": [
        "# Medical Notes Classification\n",
        "\n",
        "Medical notes is an useful information source for patient data extraction. Notes classification is also an important task in Medical NLP domain. There are many techniques to solve this problem ranging from traditional method (Logistic Regression, SVM,...) to the state-of-the-art models (Transformer).\n",
        "\n",
        "The below code block is the baseline model for a text classification problem in medical domain.\n",
        "\n",
        "* Input: the corpus of medical transcriptions.\n",
        "* Output: the type of each notes.\n",
        "\n",
        "In this problem, we try to classify five labels:\n",
        "* Surgery\n",
        "* Consult - History and Phy.\n",
        "* Cardiovascular / Pulmonary\n",
        "* Orthopedic\n",
        "* Others\n",
        "\n",
        "The train-test split was also defined, please don't change our split.\n",
        "\n",
        "Metric to evaluate: `f1_macro`"
      ]
    },
    {
      "cell_type": "markdown",
      "metadata": {
        "id": "gek0LiL_ukWI"
      },
      "source": [
        "# Baseline Model Result"
      ]
    },
    {
      "cell_type": "markdown",
      "metadata": {
        "id": "yegXlNOpyegx"
      },
      "source": [
        "\n",
        "0.3729330560342061\n",
        "\n",
        "                                precision    recall  f1-score   support\n",
        "\n",
        "    Cardiovascular / Pulmonary       0.35      0.39      0.37       148\n",
        "    Consult - History and Phy.       0.32      0.06      0.10       207\n",
        "                    Orthopedic       0.39      0.14      0.21       142\n",
        "                         Other       0.66      0.74      0.70      1055\n",
        "                       Surgery       0.43      0.57      0.49       435\n",
        "\n",
        "                      accuracy                           0.56      1987\n",
        "                     macro avg       0.43      0.38      0.37      1987\n",
        "                  weighted avg       0.54      0.56      0.53      1987"
      ]
    },
    {
      "cell_type": "markdown",
      "metadata": {
        "id": "HKiIH3ii5XnK"
      },
      "source": [
        "# Library & Data Loading"
      ]
    },
    {
      "cell_type": "code",
      "execution_count": 1,
      "metadata": {
        "id": "Dicxqovc5T3N"
      },
      "outputs": [],
      "source": [
        "import os\n",
        "import pandas as pd\n",
        "import numpy as np\n",
        "from sklearn.model_selection import train_test_split\n",
        "from sklearn.preprocessing import LabelEncoder\n",
        "from sklearn import metrics\n",
        "\n",
        "\n",
        "os.environ['CUDA_LAUNCH_BLOCKING'] = '1'\n",
        "\n",
        "\n",
        "### PLEASE DON'T CHANGE ANYTHING IN THIS SECTION ###\n",
        "DATA = \"https://github.com/socd06/private_nlp/raw/master/data/mtsamples.csv\"\n",
        "\n",
        "filtered_labels = [\n",
        "    \"Surgery\",\n",
        "    \"Consult - History and Phy.\",\n",
        "    \"Cardiovascular / Pulmonary\",\n",
        "    \"Orthopedic\",\n",
        "]\n",
        "data = pd.read_csv(DATA, usecols=['medical_specialty', 'transcription']).dropna()\n",
        "data.columns = ['labels', 'text']\n",
        "data['labels'] = [i.strip() if (i.strip() in filtered_labels) else 'Other' for i in data.labels.to_list()]\n",
        "train, test = train_test_split(data, test_size=0.4, stratify=data.labels, random_state=0)\n",
        "train = train.reset_index(drop=True)\n",
        "test = test.reset_index(drop=True)\n",
        "### END ###"
      ]
    },
    {
      "cell_type": "markdown",
      "metadata": {
        "id": "pAh6AQjmVMwu"
      },
      "source": [
        "# My Model\n",
        "\n",
        "\n",
        "\n",
        "\n",
        "\n",
        "\n",
        "\n"
      ]
    },
    {
      "cell_type": "code",
      "execution_count": 10,
      "metadata": {
        "id": "X5qkAO4yVrWT"
      },
      "outputs": [],
      "source": [
        "#create model\n",
        "from TopicAllocate import Topic_Allocate\n",
        "model = Topic_Allocate(vector_size= 500, segment_size = 20, segment_overlapping= 3)"
      ]
    },
    {
      "cell_type": "code",
      "execution_count": 11,
      "metadata": {
        "colab": {
          "base_uri": "https://localhost:8080/"
        },
        "id": "VDVy72CWZCtX",
        "outputId": "ee799272-a588-4bdd-d201-2a37ff2714e2"
      },
      "outputs": [
        {
          "name": "stdout",
          "output_type": "stream",
          "text": [
            "Epoch [1/30], Step [47/47], Loss: 0.9511, f1: 0.2474\n",
            "Epoch [2/30], Step [47/47], Loss: 0.9453, f1: 0.2427\n",
            "Epoch [3/30], Step [47/47], Loss: 0.9590, f1: 0.2566\n",
            "Epoch [4/30], Step [47/47], Loss: 0.9776, f1: 0.2171\n",
            "Epoch [5/30], Step [47/47], Loss: 0.9466, f1: 0.2654\n",
            "Epoch [6/30], Step [47/47], Loss: 0.9251, f1: 0.3998\n",
            "Epoch [7/30], Step [47/47], Loss: 0.9809, f1: 0.3463\n",
            "Epoch [8/30], Step [47/47], Loss: 0.9521, f1: 0.3729\n",
            "Epoch [9/30], Step [47/47], Loss: 0.9320, f1: 0.4252\n",
            "Epoch [10/30], Step [47/47], Loss: 0.9401, f1: 0.4554\n",
            "Epoch [11/30], Step [47/47], Loss: 0.9105, f1: 0.4611\n",
            "Epoch [12/30], Step [47/47], Loss: 0.9233, f1: 0.4373\n",
            "Epoch [13/30], Step [47/47], Loss: 0.9096, f1: 0.4640\n",
            "Epoch [14/30], Step [47/47], Loss: 0.9132, f1: 0.4531\n",
            "Epoch [15/30], Step [47/47], Loss: 0.9428, f1: 0.4409\n",
            "Epoch [16/30], Step [47/47], Loss: 0.9032, f1: 0.4372\n",
            "Epoch [17/30], Step [47/47], Loss: 0.9484, f1: 0.4741\n",
            "Epoch [18/30], Step [47/47], Loss: 0.9180, f1: 0.4750\n",
            "Epoch [19/30], Step [47/47], Loss: 0.9536, f1: 0.4547\n",
            "Epoch [20/30], Step [47/47], Loss: 0.8559, f1: 0.4571\n",
            "Epoch [21/30], Step [47/47], Loss: 0.9541, f1: 0.5045\n",
            "Epoch [22/30], Step [47/47], Loss: 0.8694, f1: 0.4958\n",
            "Epoch [23/30], Step [47/47], Loss: 0.9262, f1: 0.4940\n",
            "Epoch [24/30], Step [47/47], Loss: 0.9266, f1: 0.5091\n",
            "Epoch [25/30], Step [47/47], Loss: 0.9110, f1: 0.5054\n",
            "Epoch [26/30], Step [47/47], Loss: 0.9234, f1: 0.4332\n",
            "Epoch [27/30], Step [47/47], Loss: 0.9167, f1: 0.5026\n",
            "Epoch [28/30], Step [47/47], Loss: 0.9281, f1: 0.5114\n",
            "Epoch [29/30], Step [47/47], Loss: 0.8971, f1: 0.5091\n",
            "Epoch [30/30], Step [47/47], Loss: 0.8838, f1: 0.5193\n"
          ]
        }
      ],
      "source": [
        "model.train(train['text'], train['labels'], batch_size= 16, epochs = 30, lr= 1e-3, wd= 1e-4)"
      ]
    },
    {
      "cell_type": "code",
      "execution_count": 12,
      "metadata": {
        "colab": {
          "base_uri": "https://localhost:8080/"
        },
        "id": "AVD--NAdZDNn",
        "outputId": "ea9bd2b7-edf5-438a-b48f-40e40d0d1f9b"
      },
      "outputs": [
        {
          "name": "stdout",
          "output_type": "stream",
          "text": [
            "[[ 61  13   1  30  43]\n",
            " [  8 106   1  91   1]\n",
            " [  0   6  63  50  23]\n",
            " [ 42 144  34 566 269]\n",
            " [ 30   1  73  40 291]]\n",
            "0.4867580375031094\n",
            "                            precision    recall  f1-score   support\n",
            "\n",
            "Cardiovascular / Pulmonary       0.43      0.41      0.42       148\n",
            "Consult - History and Phy.       0.39      0.51      0.44       207\n",
            "                Orthopedic       0.37      0.44      0.40       142\n",
            "                     Other       0.73      0.54      0.62      1055\n",
            "                   Surgery       0.46      0.67      0.55       435\n",
            "\n",
            "                  accuracy                           0.55      1987\n",
            "                 macro avg       0.48      0.51      0.49      1987\n",
            "              weighted avg       0.59      0.55      0.55      1987\n",
            "\n"
          ]
        }
      ],
      "source": [
        "import torch\n",
        "from sklearn.metrics import confusion_matrix\n",
        "Y_pred = model.predict(test['text'])\n",
        "try:\n",
        "  ypred = torch.argmax(Y_pred, dim = 1).cpu()\n",
        "except:\n",
        "  ypred = np.argmax(Y_pred, axis = 1)\n",
        "Y_test = model.onehot_encoder.transform(np.array(test['labels'], dtype = type('string')).reshape(-1, 1))\n",
        "ytest = np.argmax(Y_test, axis = 1)\n",
        "print(confusion_matrix(ytest, ypred))\n",
        "print(metrics.f1_score(ytest, ypred, average='macro'))\n",
        "print(metrics.classification_report(ytest, ypred, target_names=list(model.onehot_encoder.categories_[0])))\n",
        "\n"
      ]
    }
  ],
  "metadata": {
    "accelerator": "GPU",
    "colab": {
      "collapsed_sections": [
        "AMnp5FsnF0g-"
      ],
      "machine_shape": "hm",
      "name": "MediClassi.ipynb",
      "provenance": []
    },
    "interpreter": {
      "hash": "f9f85f796d01129d0dd105a088854619f454435301f6ffec2fea96ecbd9be4ac"
    },
    "kernelspec": {
      "display_name": "Python 3.9.5 64-bit",
      "name": "python3"
    },
    "language_info": {
      "codemirror_mode": {
        "name": "ipython",
        "version": 3
      },
      "file_extension": ".py",
      "mimetype": "text/x-python",
      "name": "python",
      "nbconvert_exporter": "python",
      "pygments_lexer": "ipython3",
      "version": "3.9.5"
    }
  },
  "nbformat": 4,
  "nbformat_minor": 0
}

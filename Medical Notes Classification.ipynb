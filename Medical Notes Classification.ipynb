{
  "cells": [
    {
      "cell_type": "markdown",
      "metadata": {
        "id": "AMnp5FsnF0g-"
      },
      "source": [
        "# Medical Notes Classification\n",
        "\n",
        "Medical notes is an useful information source for patient data extraction. Notes classification is also an important task in Medical NLP domain. There are many techniques to solve this problem ranging from traditional method (Logistic Regression, SVM,...) to the state-of-the-art models (Transformer).\n",
        "\n",
        "The below code block is the baseline model for a text classification problem in medical domain.\n",
        "\n",
        "* Input: the corpus of medical transcriptions.\n",
        "* Output: the type of each notes.\n",
        "\n",
        "In this problem, we try to classify five labels:\n",
        "* Surgery\n",
        "* Consult - History and Phy.\n",
        "* Cardiovascular / Pulmonary\n",
        "* Orthopedic\n",
        "* Others\n",
        "\n",
        "The train-test split was also defined, please don't change our split.\n",
        "\n",
        "Metric to evaluate: `f1_macro`"
      ]
    },
    {
      "cell_type": "markdown",
      "metadata": {
        "id": "gek0LiL_ukWI"
      },
      "source": [
        "# Baseline Model Result"
      ]
    },
    {
      "cell_type": "markdown",
      "metadata": {
        "id": "yegXlNOpyegx"
      },
      "source": [
        "\n",
        "0.3729330560342061\n",
        "\n",
        "                                precision    recall  f1-score   support\n",
        "\n",
        "    Cardiovascular / Pulmonary       0.35      0.39      0.37       148\n",
        "    Consult - History and Phy.       0.32      0.06      0.10       207\n",
        "                    Orthopedic       0.39      0.14      0.21       142\n",
        "                         Other       0.66      0.74      0.70      1055\n",
        "                       Surgery       0.43      0.57      0.49       435\n",
        "\n",
        "                      accuracy                           0.56      1987\n",
        "                     macro avg       0.43      0.38      0.37      1987\n",
        "                  weighted avg       0.54      0.56      0.53      1987"
      ]
    },
    {
      "cell_type": "markdown",
      "metadata": {
        "id": "HKiIH3ii5XnK"
      },
      "source": [
        "# Library & Data Loading"
      ]
    },
    {
      "cell_type": "code",
      "execution_count": 1,
      "metadata": {
        "id": "Dicxqovc5T3N"
      },
      "outputs": [],
      "source": [
        "import os\n",
        "import pandas as pd\n",
        "import numpy as np\n",
        "from sklearn.model_selection import train_test_split\n",
        "from sklearn import metrics\n",
        "\n",
        "\n",
        "os.environ['CUDA_LAUNCH_BLOCKING'] = '1'\n",
        "\n",
        "\n",
        "### PLEASE DON'T CHANGE ANYTHING IN THIS SECTION ###\n",
        "DATA = \"https://github.com/socd06/private_nlp/raw/master/data/mtsamples.csv\"\n",
        "\n",
        "filtered_labels = [\n",
        "    \"Surgery\",\n",
        "    \"Consult - History and Phy.\",\n",
        "    \"Cardiovascular / Pulmonary\",\n",
        "    \"Orthopedic\",\n",
        "]\n",
        "data = pd.read_csv(DATA, usecols=['medical_specialty', 'transcription']).dropna()\n",
        "data.columns = ['labels', 'text']\n",
        "data['labels'] = [i.strip() if (i.strip() in filtered_labels) else 'Other' for i in data.labels.to_list()]\n",
        "train, test = train_test_split(data, test_size=0.4, stratify=data.labels, random_state=0)\n",
        "train = train.reset_index(drop=True)\n",
        "test = test.reset_index(drop=True)\n",
        "### END ###"
      ]
    },
    {
      "cell_type": "markdown",
      "metadata": {
        "id": "pAh6AQjmVMwu"
      },
      "source": [
        "# My Model\n"
      ]
    },
    {
      "cell_type": "code",
      "execution_count": 2,
      "metadata": {
        "id": "U7sAJD9Myeg8"
      },
      "outputs": [
        {
          "name": "stderr",
          "output_type": "stream",
          "text": [
            "[nltk_data] Downloading package wordnet to\n",
            "[nltk_data]     C:\\Users\\haimi\\AppData\\Roaming\\nltk_data...\n",
            "[nltk_data]   Package wordnet is already up-to-date!\n",
            "[nltk_data] Downloading package punkt to\n",
            "[nltk_data]     C:\\Users\\haimi\\AppData\\Roaming\\nltk_data...\n",
            "[nltk_data]   Package punkt is already up-to-date!\n"
          ]
        }
      ],
      "source": [
        "#create model\n",
        "from TopicAllocate import Topic_Allocate\n",
        "model = Topic_Allocate(vector_size= 500, segment_size = 20, segment_overlapping= 3)"
      ]
    },
    {
      "cell_type": "code",
      "execution_count": null,
      "metadata": {},
      "outputs": [],
      "source": [
        "model.train(train['text'], train['labels'])"
      ]
    }
  ],
  "metadata": {
    "accelerator": "GPU",
    "colab": {
      "collapsed_sections": [],
      "machine_shape": "hm",
      "name": "PRJ.ipynb",
      "provenance": []
    },
    "interpreter": {
      "hash": "f54c4a461600b325fbf2960af0aab788b769ee41eb8c5e57d919b1356c3cdecb"
    },
    "kernelspec": {
      "display_name": "Python 3.9.6 64-bit",
      "name": "python3"
    },
    "language_info": {
      "codemirror_mode": {
        "name": "ipython",
        "version": 3
      },
      "file_extension": ".py",
      "mimetype": "text/x-python",
      "name": "python",
      "nbconvert_exporter": "python",
      "pygments_lexer": "ipython3",
      "version": "3.9.6"
    }
  },
  "nbformat": 4,
  "nbformat_minor": 0
}

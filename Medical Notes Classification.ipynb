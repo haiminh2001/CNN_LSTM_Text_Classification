{
  "cells": [
    {
      "cell_type": "markdown",
      "metadata": {
        "id": "AMnp5FsnF0g-"
      },
      "source": [
        "# Medical Notes Classification\n",
        "\n",
        "Medical notes is an useful information source for patient data extraction. Notes classification is also an important task in Medical NLP domain. There are many techniques to solve this problem ranging from traditional method (Logistic Regression, SVM,...) to the state-of-the-art models (Transformer).\n",
        "\n",
        "The below code block is the baseline model for a text classification problem in medical domain.\n",
        "\n",
        "* Input: the corpus of medical transcriptions.\n",
        "* Output: the type of each notes.\n",
        "\n",
        "In this problem, we try to classify five labels:\n",
        "* Surgery\n",
        "* Consult - History and Phy.\n",
        "* Cardiovascular / Pulmonary\n",
        "* Orthopedic\n",
        "* Others\n",
        "\n",
        "The train-test split was also defined, please don't change our split.\n",
        "\n",
        "Metric to evaluate: `f1_macro`"
      ]
    },
    {
      "cell_type": "markdown",
      "metadata": {
        "id": "gek0LiL_ukWI"
      },
      "source": [
        "# Baseline Model Result"
      ]
    },
    {
      "cell_type": "markdown",
      "metadata": {
        "id": "yegXlNOpyegx"
      },
      "source": [
        "\n",
        "0.3729330560342061\n",
        "\n",
        "                                precision    recall  f1-score   support\n",
        "\n",
        "    Cardiovascular / Pulmonary       0.35      0.39      0.37       148\n",
        "    Consult - History and Phy.       0.32      0.06      0.10       207\n",
        "                    Orthopedic       0.39      0.14      0.21       142\n",
        "                         Other       0.66      0.74      0.70      1055\n",
        "                       Surgery       0.43      0.57      0.49       435\n",
        "\n",
        "                      accuracy                           0.56      1987\n",
        "                     macro avg       0.43      0.38      0.37      1987\n",
        "                  weighted avg       0.54      0.56      0.53      1987"
      ]
    },
    {
      "cell_type": "markdown",
      "metadata": {
        "id": "HKiIH3ii5XnK"
      },
      "source": [
        "# Library & Data Loading"
      ]
    },
    {
      "cell_type": "code",
      "execution_count": null,
      "metadata": {
        "id": "Dicxqovc5T3N"
      },
      "outputs": [],
      "source": [
        "import os\n",
        "import pandas as pd\n",
        "import numpy as np\n",
        "from sklearn.model_selection import train_test_split\n",
        "from sklearn.preprocessing import LabelEncoder\n",
        "from sklearn import metrics\n",
        "\n",
        "\n",
        "os.environ['CUDA_LAUNCH_BLOCKING'] = '1'\n",
        "\n",
        "\n",
        "### PLEASE DON'T CHANGE ANYTHING IN THIS SECTION ###\n",
        "DATA = \"https://github.com/socd06/private_nlp/raw/master/data/mtsamples.csv\"\n",
        "\n",
        "filtered_labels = [\n",
        "    \"Surgery\",\n",
        "    \"Consult - History and Phy.\",\n",
        "    \"Cardiovascular / Pulmonary\",\n",
        "    \"Orthopedic\",\n",
        "]\n",
        "data = pd.read_csv(DATA, usecols=['medical_specialty', 'transcription']).dropna()\n",
        "data.columns = ['labels', 'text']\n",
        "data['labels'] = [i.strip() if (i.strip() in filtered_labels) else 'Other' for i in data.labels.to_list()]\n",
        "train, test = train_test_split(data, test_size=0.4, stratify=data.labels, random_state=0)\n",
        "train = train.reset_index(drop=True)\n",
        "test = test.reset_index(drop=True)\n",
        "### END ###"
      ]
    },
    {
      "cell_type": "markdown",
      "metadata": {
        "id": "pAh6AQjmVMwu"
      },
      "source": [
        "# My Model\n",
        "\n",
        "\n",
        "\n",
        "\n",
        "\n",
        "\n",
        "\n"
      ]
    },
    {
      "cell_type": "code",
      "execution_count": null,
      "metadata": {
        "id": "X5qkAO4yVrWT"
      },
      "outputs": [],
      "source": [
        "#create model\n",
        "from TopicAllocate import Topic_Allocate\n",
        "model = Topic_Allocate(vector_size= 300, segment_size = 40, segment_overlapping= 3)"
      ]
    },
    {
      "cell_type": "code",
      "execution_count": null,
      "metadata": {
        "colab": {
          "base_uri": "https://localhost:8080/"
        },
        "id": "VDVy72CWZCtX",
        "outputId": "b41fd02e-5ea1-4819-c053-124c6a9bc702"
      },
      "outputs": [
        {
          "name": "stdout",
          "output_type": "stream",
          "text": [
            "Epoch [1/15], Step [94/94], Loss: 0.9979, f1: 0.2785\n",
            "Epoch [2/15], Step [94/94], Loss: 0.9533, f1: 0.3474\n",
            "Epoch [3/15], Step [94/94], Loss: 0.9876, f1: 0.3305\n",
            "Epoch [4/15], Step [94/94], Loss: 0.9580, f1: 0.3432\n",
            "Epoch [5/15], Step [94/94], Loss: 0.9839, f1: 0.4699\n",
            "Epoch [6/15], Step [94/94], Loss: 0.9950, f1: 0.4433\n",
            "Epoch [7/15], Step [94/94], Loss: 0.9962, f1: 0.4619\n",
            "Epoch [8/15], Step [94/94], Loss: 0.9752, f1: 0.4172\n",
            "Epoch [9/15], Step [94/94], Loss: 0.9562, f1: 0.4447\n",
            "Epoch [10/15], Step [94/94], Loss: 0.9981, f1: 0.4212\n",
            "Epoch [11/15], Step [94/94], Loss: 0.9074, f1: 0.4849\n",
            "Epoch [12/15], Step [94/94], Loss: 0.9242, f1: 0.4700\n",
            "Epoch [13/15], Step [94/94], Loss: 0.9884, f1: 0.4891\n",
            "Epoch [14/15], Step [94/94], Loss: 0.9891, f1: 0.4878\n",
            "Epoch [15/15], Step [94/94], Loss: 0.9946, f1: 0.4957\n"
          ]
        }
      ],
      "source": [
        "model.train(train['text'], train['labels'], batch_size= 32, epochs = 15, lr= 1e-3, wd= 1e-4)"
      ]
    },
    {
      "cell_type": "code",
      "execution_count": null,
      "metadata": {
        "colab": {
          "base_uri": "https://localhost:8080/"
        },
        "id": "AVD--NAdZDNn",
        "outputId": "3104ab29-d3a7-42ed-e0e8-e2f0020ad2cf"
      },
      "outputs": [
        {
          "name": "stdout",
          "output_type": "stream",
          "text": [
            "[[ 71  21   0  16  40]\n",
            " [  4 144   2  57   0]\n",
            " [  0  21  80  13  28]\n",
            " [ 52 251  64 377 311]\n",
            " [ 36   1  67  13 318]]\n",
            "0.4816267037046476\n",
            "                            precision    recall  f1-score   support\n",
            "\n",
            "Cardiovascular / Pulmonary       0.44      0.48      0.46       148\n",
            "Consult - History and Phy.       0.33      0.70      0.45       207\n",
            "                Orthopedic       0.38      0.56      0.45       142\n",
            "                     Other       0.79      0.36      0.49      1055\n",
            "                   Surgery       0.46      0.73      0.56       435\n",
            "\n",
            "                  accuracy                           0.50      1987\n",
            "                 macro avg       0.48      0.57      0.48      1987\n",
            "              weighted avg       0.61      0.50      0.50      1987\n",
            "\n"
          ]
        }
      ],
      "source": [
        "import torch\n",
        "from sklearn.metrics import confusion_matrix\n",
        "Y_pred = model.predict(test['text'])\n",
        "try:\n",
        "  ypred = torch.argmax(Y_pred, dim = 1).cpu()\n",
        "except:\n",
        "  ypred = np.argmax(Y_pred, axis = 1)\n",
        "Y_test = model.onehot_encoder.transform(np.array(test['labels'], dtype = type('string')).reshape(-1, 1))\n",
        "ytest = np.argmax(Y_test, axis = 1)\n",
        "print(confusion_matrix(ytest, ypred))\n",
        "print(metrics.f1_score(ytest, ypred, average='macro'))\n",
        "print(metrics.classification_report(ytest, ypred, target_names=list(model.onehot_encoder.categories_[0])))\n",
        "\n"
      ]
    }
  ],
  "metadata": {
    "accelerator": "GPU",
    "colab": {
      "collapsed_sections": [
        "AMnp5FsnF0g-"
      ],
      "machine_shape": "hm",
      "name": "MediClassi.ipynb",
      "provenance": []
    },
    "interpreter": {
      "hash": "f54c4a461600b325fbf2960af0aab788b769ee41eb8c5e57d919b1356c3cdecb"
    },
    "kernelspec": {
      "display_name": "Python 3.9.6 64-bit",
      "name": "python3"
    },
    "language_info": {
      "codemirror_mode": {
        "name": "ipython",
        "version": 3
      },
      "file_extension": ".py",
      "mimetype": "text/x-python",
      "name": "python",
      "nbconvert_exporter": "python",
      "pygments_lexer": "ipython3",
      "version": "3.9.6"
    }
  },
  "nbformat": 4,
  "nbformat_minor": 0
}

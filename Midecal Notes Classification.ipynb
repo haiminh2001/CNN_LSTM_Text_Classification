{
  "cells": [
    {
      "cell_type": "markdown",
      "metadata": {
        "id": "AMnp5FsnF0g-"
      },
      "source": [
        "# Medical Notes Classification\n",
        "\n",
        "Medical notes is an useful information source for patient data extraction. Notes classification is also an important task in Medical NLP domain. There are many techniques to solve this problem ranging from traditional method (Logistic Regression, SVM,...) to the state-of-the-art models (Transformer).\n",
        "\n",
        "The below code block is the baseline model for a text classification problem in medical domain.\n",
        "\n",
        "* Input: the corpus of medical transcriptions.\n",
        "* Output: the type of each notes.\n",
        "\n",
        "In this problem, we try to classify five labels:\n",
        "* Surgery\n",
        "* Consult - History and Phy.\n",
        "* Cardiovascular / Pulmonary\n",
        "* Orthopedic\n",
        "* Others\n",
        "\n",
        "The train-test split was also defined, please don't change our split.\n",
        "\n",
        "Metric to evaluate: `f1_macro`"
      ]
    },
    {
      "cell_type": "markdown",
      "metadata": {
        "id": "gek0LiL_ukWI"
      },
      "source": [
        "# Baseline Model Result"
      ]
    },
    {
      "cell_type": "markdown",
      "metadata": {
        "id": "yegXlNOpyegx"
      },
      "source": [
        "\n",
        "0.3729330560342061\n",
        "\n",
        "                                precision    recall  f1-score   support\n",
        "\n",
        "    Cardiovascular / Pulmonary       0.35      0.39      0.37       148\n",
        "    Consult - History and Phy.       0.32      0.06      0.10       207\n",
        "                    Orthopedic       0.39      0.14      0.21       142\n",
        "                         Other       0.66      0.74      0.70      1055\n",
        "                       Surgery       0.43      0.57      0.49       435\n",
        "\n",
        "                      accuracy                           0.56      1987\n",
        "                     macro avg       0.43      0.38      0.37      1987\n",
        "                  weighted avg       0.54      0.56      0.53      1987"
      ]
    },
    {
      "cell_type": "markdown",
      "metadata": {
        "id": "HKiIH3ii5XnK"
      },
      "source": [
        "# Library & Data Loading"
      ]
    },
    {
      "cell_type": "code",
      "execution_count": 7,
      "metadata": {
        "id": "Dicxqovc5T3N"
      },
      "outputs": [],
      "source": [
        "import os\n",
        "import pandas as pd\n",
        "import numpy as np\n",
        "from sklearn.model_selection import train_test_split\n",
        "from sklearn import metrics\n",
        "\n",
        "\n",
        "os.environ['CUDA_LAUNCH_BLOCKING'] = '1'\n",
        "\n",
        "\n",
        "### PLEASE DON'T CHANGE ANYTHING IN THIS SECTION ###\n",
        "DATA = \"https://github.com/socd06/private_nlp/raw/master/data/mtsamples.csv\"\n",
        "\n",
        "filtered_labels = [\n",
        "    \"Surgery\",\n",
        "    \"Consult - History and Phy.\",\n",
        "    \"Cardiovascular / Pulmonary\",\n",
        "    \"Orthopedic\",\n",
        "]\n",
        "data = pd.read_csv(DATA, usecols=['medical_specialty', 'transcription']).dropna()\n",
        "data.columns = ['labels', 'text']\n",
        "data['labels'] = [i.strip() if (i.strip() in filtered_labels) else 'Other' for i in data.labels.to_list()]\n",
        "train, test = train_test_split(data, test_size=0.4, stratify=data.labels, random_state=0)\n",
        "train = train.reset_index(drop=True)\n",
        "test = test.reset_index(drop=True)\n",
        "### END ###"
      ]
    },
    {
      "cell_type": "markdown",
      "metadata": {
        "id": "pAh6AQjmVMwu"
      },
      "source": [
        "# My Model\n",
        "\n",
        "\n",
        "\n",
        "\n",
        "\n",
        "\n",
        "\n"
      ]
    },
    {
      "cell_type": "code",
      "execution_count": 25,
      "metadata": {
        "id": "X5qkAO4yVrWT"
      },
      "outputs": [],
      "source": [
        "#create model\n",
        "from TopicAllocate import Topic_Allocate\n",
        "model = Topic_Allocate(vector_size= 500, segment_size = 20, segment_overlapping= 3)"
      ]
    },
    {
      "cell_type": "code",
      "execution_count": 26,
      "metadata": {
        "colab": {
          "base_uri": "https://localhost:8080/"
        },
        "id": "VDVy72CWZCtX",
        "outputId": "1de9a204-c50b-4559-8182-3fd459234488"
      },
      "outputs": [
        {
          "name": "stdout",
          "output_type": "stream",
          "text": [
            "Epoch [1/20], Step [94/94], Loss: 0.9650, f1: 0.2619\n",
            "Epoch [2/20], Step [94/94], Loss: 0.9407, f1: 0.2894\n",
            "Epoch [3/20], Step [94/94], Loss: 0.9447, f1: 0.3335\n",
            "Epoch [4/20], Step [94/94], Loss: 0.9173, f1: 0.3523\n",
            "Epoch [5/20], Step [94/94], Loss: 0.9945, f1: 0.3565\n",
            "Epoch [6/20], Step [94/94], Loss: 0.9971, f1: 0.3989\n",
            "Epoch [7/20], Step [94/94], Loss: 0.9656, f1: 0.4198\n",
            "Epoch [8/20], Step [94/94], Loss: 0.9588, f1: 0.3983\n",
            "Epoch [9/20], Step [94/94], Loss: 0.9968, f1: 0.4486\n",
            "Epoch [10/20], Step [94/94], Loss: 0.9995, f1: 0.3944\n",
            "Epoch [11/20], Step [94/94], Loss: 0.9739, f1: 0.4282\n",
            "Epoch [12/20], Step [94/94], Loss: 0.9778, f1: 0.4323\n",
            "Epoch [13/20], Step [94/94], Loss: 0.9808, f1: 0.4713\n",
            "Epoch [14/20], Step [94/94], Loss: 0.9833, f1: 0.4534\n",
            "Epoch [15/20], Step [94/94], Loss: 0.9753, f1: 0.4673\n",
            "Epoch [16/20], Step [94/94], Loss: 0.9911, f1: 0.4784\n",
            "Epoch [17/20], Step [94/94], Loss: 0.9667, f1: 0.4753\n",
            "Epoch [18/20], Step [94/94], Loss: 0.9937, f1: 0.4574\n",
            "Epoch [19/20], Step [94/94], Loss: 0.9791, f1: 0.4820\n",
            "Epoch [20/20], Step [94/94], Loss: 0.9749, f1: 0.4833\n"
          ]
        }
      ],
      "source": [
        "model.train(train['text'], train['labels'], batch_size= 32, epochs = 20, lr= 1e-3, wd= 1e-4)"
      ]
    },
    {
      "cell_type": "code",
      "execution_count": 27,
      "metadata": {
        "colab": {
          "base_uri": "https://localhost:8080/"
        },
        "id": "AVD--NAdZDNn",
        "outputId": "b5e78d4f-bfea-4f8c-c29c-23ba76217fdc"
      },
      "outputs": [
        {
          "name": "stdout",
          "output_type": "stream",
          "text": [
            "[[ 74  14   2  22  36]\n",
            " [  3 110  14  80   0]\n",
            " [  0   4  59  19  60]\n",
            " [ 52 155 101 458 289]\n",
            " [ 40   1  30  16 348]]\n",
            "0.4810129061210914\n",
            "                            precision    recall  f1-score   support\n",
            "\n",
            "Cardiovascular / Pulmonary       0.44      0.50      0.47       148\n",
            "Consult - History and Phy.       0.39      0.53      0.45       207\n",
            "                Orthopedic       0.29      0.42      0.34       142\n",
            "                     Other       0.77      0.43      0.56      1055\n",
            "                   Surgery       0.47      0.80      0.60       435\n",
            "\n",
            "                  accuracy                           0.53      1987\n",
            "                 macro avg       0.47      0.54      0.48      1987\n",
            "              weighted avg       0.61      0.53      0.53      1987\n",
            "\n"
          ]
        }
      ],
      "source": [
        "import torch\n",
        "from sklearn.metrics import confusion_matrix\n",
        "Y_pred = model.predict(test['text'])\n",
        "try:\n",
        "  ypred = torch.argmax(Y_pred, dim = 1).cpu()\n",
        "except:\n",
        "  ypred = np.argmax(Y_pred, axis = 1)\n",
        "Y_test = model.onehot_encoder.transform(np.array(test['labels'], dtype = type('string')).reshape(-1, 1))\n",
        "ytest = np.argmax(Y_test, axis = 1)\n",
        "print(confusion_matrix(ytest, ypred))\n",
        "print(metrics.f1_score(ytest, ypred, average='macro'))\n",
        "print(metrics.classification_report(ytest, ypred, target_names=list(model.onehot_encoder.categories_[0])))\n",
        "\n"
      ]
    }
  ],
  "metadata": {
    "accelerator": "GPU",
    "colab": {
      "collapsed_sections": [
        "AMnp5FsnF0g-"
      ],
      "machine_shape": "hm",
      "name": "MediClassi.ipynb",
      "provenance": []
    },
    "interpreter": {
      "hash": "f9f85f796d01129d0dd105a088854619f454435301f6ffec2fea96ecbd9be4ac"
    },
    "kernelspec": {
      "display_name": "Python 3.9.5 64-bit",
      "name": "python3"
    },
    "language_info": {
      "codemirror_mode": {
        "name": "ipython",
        "version": 3
      },
      "file_extension": ".py",
      "mimetype": "text/x-python",
      "name": "python",
      "nbconvert_exporter": "python",
      "pygments_lexer": "ipython3",
      "version": "3.9.5"
    }
  },
  "nbformat": 4,
  "nbformat_minor": 0
}
